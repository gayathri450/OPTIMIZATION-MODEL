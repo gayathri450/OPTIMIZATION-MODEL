{
  "nbformat": 4,
  "nbformat_minor": 0,
  "metadata": {
    "colab": {
      "provenance": []
    },
    "kernelspec": {
      "name": "python3",
      "display_name": "Python 3"
    },
    "language_info": {
      "name": "python"
    }
  },
  "cells": [
    {
      "cell_type": "code",
      "source": [
        "#install pulp\n",
        "pip install pulp"
      ],
      "metadata": {
        "colab": {
          "base_uri": "https://localhost:8080/"
        },
        "id": "vUuUZJdvO4sB",
        "outputId": "96c64cbb-35fe-44e3-daa1-b728ac79f700"
      },
      "execution_count": 2,
      "outputs": [
        {
          "output_type": "stream",
          "name": "stdout",
          "text": [
            "Collecting pulp\n",
            "  Downloading pulp-3.1.1-py3-none-any.whl.metadata (1.3 kB)\n",
            "Downloading pulp-3.1.1-py3-none-any.whl (16.4 MB)\n",
            "\u001b[?25l   \u001b[90m━━━━━━━━━━━━━━━━━━━━━━━━━━━━━━━━━━━━━━━━\u001b[0m \u001b[32m0.0/16.4 MB\u001b[0m \u001b[31m?\u001b[0m eta \u001b[36m-:--:--\u001b[0m\r\u001b[2K   \u001b[91m━\u001b[0m\u001b[90m╺\u001b[0m\u001b[90m━━━━━━━━━━━━━━━━━━━━━━━━━━━━━━━━━━━━━━\u001b[0m \u001b[32m0.5/16.4 MB\u001b[0m \u001b[31m16.7 MB/s\u001b[0m eta \u001b[36m0:00:01\u001b[0m\r\u001b[2K   \u001b[91m━━━━━━━━━━\u001b[0m\u001b[91m╸\u001b[0m\u001b[90m━━━━━━━━━━━━━━━━━━━━━━━━━━━━━\u001b[0m \u001b[32m4.4/16.4 MB\u001b[0m \u001b[31m64.9 MB/s\u001b[0m eta \u001b[36m0:00:01\u001b[0m\r\u001b[2K   \u001b[91m━━━━━━━━━━━━━━━━━━━━━━━━━\u001b[0m\u001b[91m╸\u001b[0m\u001b[90m━━━━━━━━━━━━━━\u001b[0m \u001b[32m10.6/16.4 MB\u001b[0m \u001b[31m137.1 MB/s\u001b[0m eta \u001b[36m0:00:01\u001b[0m\r\u001b[2K   \u001b[91m━━━━━━━━━━━━━━━━━━━━━━━━━━━━━━━━━━━━━━━\u001b[0m\u001b[91m╸\u001b[0m \u001b[32m16.4/16.4 MB\u001b[0m \u001b[31m244.7 MB/s\u001b[0m eta \u001b[36m0:00:01\u001b[0m\r\u001b[2K   \u001b[90m━━━━━━━━━━━━━━━━━━━━━━━━━━━━━━━━━━━━━━━━\u001b[0m \u001b[32m16.4/16.4 MB\u001b[0m \u001b[31m129.5 MB/s\u001b[0m eta \u001b[36m0:00:00\u001b[0m\n",
            "\u001b[?25hInstalling collected packages: pulp\n",
            "Successfully installed pulp-3.1.1\n"
          ]
        }
      ]
    },
    {
      "cell_type": "code",
      "execution_count": 6,
      "metadata": {
        "colab": {
          "base_uri": "https://localhost:8080/"
        },
        "id": "hmtzaEXYOrFW",
        "outputId": "f917e5c3-9976-43a2-d4be-f2e468d96e59"
      },
      "outputs": [
        {
          "output_type": "stream",
          "name": "stdout",
          "text": [
            "Status: 1, Optimal\n",
            "Produce 0.0 units of Product A\n",
            "Produce 60.0 units of Product B\n",
            "Maximum Profit: $900.0\n"
          ]
        }
      ],
      "source": [
        "#import libraries\n",
        "from pulp import LpMaximize, LpProblem, LpVariable, value, LpStatus\n",
        "\n",
        "# create optimization problem\n",
        "model = LpProblem(name=\"product-mix\", sense=LpMaximize)\n",
        "\n",
        "# define decision variables\n",
        "x = LpVariable(name=\"Product_A\", lowBound=0, cat='Integer')\n",
        "y = LpVariable(name=\"Product_B\", lowBound=0, cat='Integer')\n",
        "\n",
        "# add the objective function: Maximize profit\n",
        "model += 20 * x + 15 * y, \"Total_Profit\"\n",
        "\n",
        "# add the time constraint\n",
        "model += 3 * x + 2 * y <= 120, \"Time_Constraint\"\n",
        "\n",
        "# solve the problem\n",
        "model.solve()\n",
        "print(f\"Status: {model.status}, {LpStatus[model.status]}\") # Access LpStatus instead of LpProblem\n",
        "print(f\"Produce {x.value()} units of Product A\")\n",
        "print(f\"Produce {y.value()} units of Product B\")\n",
        "print(f\"Maximum Profit: ${value(model.objective)}\")"
      ]
    }
  ]
}